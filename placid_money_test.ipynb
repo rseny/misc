{
 "cells": [
  {
   "cell_type": "markdown",
   "id": "b9dcc9c5",
   "metadata": {},
   "source": [
    "## Placid Money -- Recruitment Test 4 -- Arsenii Turyshev "
   ]
  },
  {
   "cell_type": "code",
   "execution_count": 1,
   "id": "f7950bba",
   "metadata": {},
   "outputs": [],
   "source": [
    "import pandas as pd\n",
    "import numpy as np"
   ]
  },
  {
   "cell_type": "code",
   "execution_count": 211,
   "id": "a0fe2981",
   "metadata": {},
   "outputs": [],
   "source": [
    "import warnings\n",
    "warnings.simplefilter(action='ignore', category=FutureWarning)"
   ]
  },
  {
   "cell_type": "raw",
   "id": "b00d9552",
   "metadata": {},
   "source": [
    "Загружаем данные о настоящем FICO"
   ]
  },
  {
   "cell_type": "code",
   "execution_count": 13,
   "id": "b788d7b3",
   "metadata": {},
   "outputs": [],
   "source": [
    "uw = pd.read_excel('underwriting_details.xlsx').set_index('id')"
   ]
  },
  {
   "cell_type": "code",
   "execution_count": 14,
   "id": "d35c016b",
   "metadata": {},
   "outputs": [],
   "source": [
    "# some users are missing FICO\n",
    "uw = uw[uw.fico_score > 0]"
   ]
  },
  {
   "cell_type": "raw",
   "id": "e6389851",
   "metadata": {},
   "source": [
    "Я только оставляю самый свежий FICO, чтобы использовать всю доступную историю"
   ]
  },
  {
   "cell_type": "code",
   "execution_count": 15,
   "id": "19e12413",
   "metadata": {},
   "outputs": [
    {
     "data": {
      "text/html": [
       "<div>\n",
       "<style scoped>\n",
       "    .dataframe tbody tr th:only-of-type {\n",
       "        vertical-align: middle;\n",
       "    }\n",
       "\n",
       "    .dataframe tbody tr th {\n",
       "        vertical-align: top;\n",
       "    }\n",
       "\n",
       "    .dataframe thead th {\n",
       "        text-align: right;\n",
       "    }\n",
       "</style>\n",
       "<table border=\"1\" class=\"dataframe\">\n",
       "  <thead>\n",
       "    <tr style=\"text-align: right;\">\n",
       "      <th></th>\n",
       "      <th>user_id</th>\n",
       "      <th>created_at</th>\n",
       "      <th>report_id</th>\n",
       "      <th>result</th>\n",
       "      <th>fico_score</th>\n",
       "      <th>hit_code</th>\n",
       "      <th>fraud_id</th>\n",
       "      <th>vantage_score</th>\n",
       "    </tr>\n",
       "    <tr>\n",
       "      <th>id</th>\n",
       "      <th></th>\n",
       "      <th></th>\n",
       "      <th></th>\n",
       "      <th></th>\n",
       "      <th></th>\n",
       "      <th></th>\n",
       "      <th></th>\n",
       "      <th></th>\n",
       "    </tr>\n",
       "  </thead>\n",
       "  <tbody>\n",
       "    <tr>\n",
       "      <th>196</th>\n",
       "      <td>895</td>\n",
       "      <td>2021-09-19 08:34:45.655</td>\n",
       "      <td>206.0</td>\n",
       "      <td>Approved</td>\n",
       "      <td>649.0</td>\n",
       "      <td>1.0</td>\n",
       "      <td>1</td>\n",
       "      <td>NaN</td>\n",
       "    </tr>\n",
       "    <tr>\n",
       "      <th>205</th>\n",
       "      <td>922</td>\n",
       "      <td>2021-09-20 11:54:00.095</td>\n",
       "      <td>215.0</td>\n",
       "      <td>Approved</td>\n",
       "      <td>587.0</td>\n",
       "      <td>1.0</td>\n",
       "      <td>5</td>\n",
       "      <td>NaN</td>\n",
       "    </tr>\n",
       "    <tr>\n",
       "      <th>219</th>\n",
       "      <td>653</td>\n",
       "      <td>2021-09-21 22:19:22.388</td>\n",
       "      <td>229.0</td>\n",
       "      <td>Approved</td>\n",
       "      <td>604.0</td>\n",
       "      <td>1.0</td>\n",
       "      <td>5</td>\n",
       "      <td>NaN</td>\n",
       "    </tr>\n",
       "    <tr>\n",
       "      <th>233</th>\n",
       "      <td>1042</td>\n",
       "      <td>2021-09-23 06:51:40.657</td>\n",
       "      <td>243.0</td>\n",
       "      <td>Approved</td>\n",
       "      <td>607.0</td>\n",
       "      <td>6.0</td>\n",
       "      <td>L</td>\n",
       "      <td>NaN</td>\n",
       "    </tr>\n",
       "    <tr>\n",
       "      <th>236</th>\n",
       "      <td>1052</td>\n",
       "      <td>2021-09-23 09:50:12.250</td>\n",
       "      <td>246.0</td>\n",
       "      <td>Approved</td>\n",
       "      <td>538.0</td>\n",
       "      <td>1.0</td>\n",
       "      <td>R</td>\n",
       "      <td>NaN</td>\n",
       "    </tr>\n",
       "  </tbody>\n",
       "</table>\n",
       "</div>"
      ],
      "text/plain": [
       "     user_id              created_at  report_id    result  fico_score  \\\n",
       "id                                                                      \n",
       "196      895 2021-09-19 08:34:45.655      206.0  Approved       649.0   \n",
       "205      922 2021-09-20 11:54:00.095      215.0  Approved       587.0   \n",
       "219      653 2021-09-21 22:19:22.388      229.0  Approved       604.0   \n",
       "233     1042 2021-09-23 06:51:40.657      243.0  Approved       607.0   \n",
       "236     1052 2021-09-23 09:50:12.250      246.0  Approved       538.0   \n",
       "\n",
       "     hit_code fraud_id  vantage_score  \n",
       "id                                     \n",
       "196       1.0        1            NaN  \n",
       "205       1.0        5            NaN  \n",
       "219       1.0        5            NaN  \n",
       "233       6.0        L            NaN  \n",
       "236       1.0        R            NaN  "
      ]
     },
     "execution_count": 15,
     "metadata": {},
     "output_type": "execute_result"
    }
   ],
   "source": [
    "uw = uw.sort_values('created_at')\n",
    "uw.head()"
   ]
  },
  {
   "cell_type": "code",
   "execution_count": 20,
   "id": "ee1e5aa3",
   "metadata": {},
   "outputs": [],
   "source": [
    "user_base = uw.groupby('user_id').tail(1).set_index('user_id')[['created_at', 'fico_score']]"
   ]
  },
  {
   "cell_type": "code",
   "execution_count": 21,
   "id": "5ff1af0b",
   "metadata": {},
   "outputs": [],
   "source": [
    "# normalize FICO\n",
    "user_base['fico_score'] = (user_base['fico_score'] - 300) / (850 - 300)"
   ]
  },
  {
   "cell_type": "code",
   "execution_count": 22,
   "id": "1a38fb2d",
   "metadata": {},
   "outputs": [
    {
     "data": {
      "text/html": [
       "<div>\n",
       "<style scoped>\n",
       "    .dataframe tbody tr th:only-of-type {\n",
       "        vertical-align: middle;\n",
       "    }\n",
       "\n",
       "    .dataframe tbody tr th {\n",
       "        vertical-align: top;\n",
       "    }\n",
       "\n",
       "    .dataframe thead th {\n",
       "        text-align: right;\n",
       "    }\n",
       "</style>\n",
       "<table border=\"1\" class=\"dataframe\">\n",
       "  <thead>\n",
       "    <tr style=\"text-align: right;\">\n",
       "      <th></th>\n",
       "      <th>created_at</th>\n",
       "      <th>fico_score</th>\n",
       "    </tr>\n",
       "    <tr>\n",
       "      <th>user_id</th>\n",
       "      <th></th>\n",
       "      <th></th>\n",
       "    </tr>\n",
       "  </thead>\n",
       "  <tbody>\n",
       "    <tr>\n",
       "      <th>1699</th>\n",
       "      <td>2021-10-11 01:08:20.069</td>\n",
       "      <td>0.474545</td>\n",
       "    </tr>\n",
       "    <tr>\n",
       "      <th>1845</th>\n",
       "      <td>2021-12-21 04:47:02.283</td>\n",
       "      <td>0.609091</td>\n",
       "    </tr>\n",
       "    <tr>\n",
       "      <th>4890</th>\n",
       "      <td>2021-12-29 01:03:58.355</td>\n",
       "      <td>0.667273</td>\n",
       "    </tr>\n",
       "    <tr>\n",
       "      <th>5283</th>\n",
       "      <td>2022-01-13 12:12:42.369</td>\n",
       "      <td>0.643636</td>\n",
       "    </tr>\n",
       "    <tr>\n",
       "      <th>5404</th>\n",
       "      <td>2022-01-17 11:01:21.774</td>\n",
       "      <td>0.661818</td>\n",
       "    </tr>\n",
       "  </tbody>\n",
       "</table>\n",
       "</div>"
      ],
      "text/plain": [
       "                     created_at  fico_score\n",
       "user_id                                    \n",
       "1699    2021-10-11 01:08:20.069    0.474545\n",
       "1845    2021-12-21 04:47:02.283    0.609091\n",
       "4890    2021-12-29 01:03:58.355    0.667273\n",
       "5283    2022-01-13 12:12:42.369    0.643636\n",
       "5404    2022-01-17 11:01:21.774    0.661818"
      ]
     },
     "execution_count": 22,
     "metadata": {},
     "output_type": "execute_result"
    }
   ],
   "source": [
    "user_base.head()"
   ]
  },
  {
   "cell_type": "raw",
   "id": "ee28109f",
   "metadata": {},
   "source": [
    "Загружаем историю:"
   ]
  },
  {
   "cell_type": "code",
   "execution_count": 163,
   "id": "3b11ec7e",
   "metadata": {},
   "outputs": [],
   "source": [
    "ch = pd.read_excel('credit_card_accounts_history.xlsx')"
   ]
  },
  {
   "cell_type": "code",
   "execution_count": 164,
   "id": "526b60e0",
   "metadata": {},
   "outputs": [],
   "source": [
    "# slice the last column into two dates\n",
    "ch['start_period'] = pd.to_datetime(ch.sys_period.str.slice(2,12))\n",
    "ch['end_period'] = pd.to_datetime(ch.sys_period.str.split(',').str[-1].str.slice(1,11))\n",
    "ch['period_days'] = (ch['end_period'] - ch['start_period']).dt.days"
   ]
  },
  {
   "cell_type": "code",
   "execution_count": 165,
   "id": "4b8702de",
   "metadata": {},
   "outputs": [],
   "source": [
    "pd.set_option('display.max_rows', None)"
   ]
  },
  {
   "cell_type": "code",
   "execution_count": 166,
   "id": "711ed076",
   "metadata": {},
   "outputs": [
    {
     "data": {
      "text/html": [
       "<div>\n",
       "<style scoped>\n",
       "    .dataframe tbody tr th:only-of-type {\n",
       "        vertical-align: middle;\n",
       "    }\n",
       "\n",
       "    .dataframe tbody tr th {\n",
       "        vertical-align: top;\n",
       "    }\n",
       "\n",
       "    .dataframe thead th {\n",
       "        text-align: right;\n",
       "    }\n",
       "</style>\n",
       "<table border=\"1\" class=\"dataframe\">\n",
       "  <thead>\n",
       "    <tr style=\"text-align: right;\">\n",
       "      <th></th>\n",
       "      <th>user_id</th>\n",
       "      <th>current_balance</th>\n",
       "      <th>limit</th>\n",
       "      <th>current_utilization</th>\n",
       "      <th>start_period</th>\n",
       "      <th>end_period</th>\n",
       "      <th>period_days</th>\n",
       "    </tr>\n",
       "  </thead>\n",
       "  <tbody>\n",
       "    <tr>\n",
       "      <th>0</th>\n",
       "      <td>3894</td>\n",
       "      <td>45724</td>\n",
       "      <td>50000</td>\n",
       "      <td>91.4480</td>\n",
       "      <td>2022-02-18</td>\n",
       "      <td>2022-02-18</td>\n",
       "      <td>0</td>\n",
       "    </tr>\n",
       "    <tr>\n",
       "      <th>1</th>\n",
       "      <td>3894</td>\n",
       "      <td>445648</td>\n",
       "      <td>450000</td>\n",
       "      <td>99.0329</td>\n",
       "      <td>2022-02-18</td>\n",
       "      <td>2022-02-18</td>\n",
       "      <td>0</td>\n",
       "    </tr>\n",
       "    <tr>\n",
       "      <th>2</th>\n",
       "      <td>6595</td>\n",
       "      <td>40648</td>\n",
       "      <td>700000</td>\n",
       "      <td>5.8069</td>\n",
       "      <td>2022-02-18</td>\n",
       "      <td>2022-02-18</td>\n",
       "      <td>0</td>\n",
       "    </tr>\n",
       "    <tr>\n",
       "      <th>3</th>\n",
       "      <td>201</td>\n",
       "      <td>93183</td>\n",
       "      <td>100000</td>\n",
       "      <td>93.1830</td>\n",
       "      <td>2022-02-18</td>\n",
       "      <td>2022-02-19</td>\n",
       "      <td>1</td>\n",
       "    </tr>\n",
       "    <tr>\n",
       "      <th>4</th>\n",
       "      <td>201</td>\n",
       "      <td>763905</td>\n",
       "      <td>780000</td>\n",
       "      <td>97.9365</td>\n",
       "      <td>2022-02-18</td>\n",
       "      <td>2022-02-19</td>\n",
       "      <td>1</td>\n",
       "    </tr>\n",
       "  </tbody>\n",
       "</table>\n",
       "</div>"
      ],
      "text/plain": [
       "   user_id  current_balance   limit  current_utilization start_period  \\\n",
       "0     3894            45724   50000              91.4480   2022-02-18   \n",
       "1     3894           445648  450000              99.0329   2022-02-18   \n",
       "2     6595            40648  700000               5.8069   2022-02-18   \n",
       "3      201            93183  100000              93.1830   2022-02-18   \n",
       "4      201           763905  780000              97.9365   2022-02-18   \n",
       "\n",
       "  end_period  period_days  \n",
       "0 2022-02-18            0  \n",
       "1 2022-02-18            0  \n",
       "2 2022-02-18            0  \n",
       "3 2022-02-19            1  \n",
       "4 2022-02-19            1  "
      ]
     },
     "execution_count": 166,
     "metadata": {},
     "output_type": "execute_result"
    }
   ],
   "source": [
    "ch[['user_id', 'current_balance', 'limit', 'current_utilization', 'start_period', 'end_period', 'period_days']].head()"
   ]
  },
  {
   "cell_type": "raw",
   "id": "08bbea45",
   "metadata": {},
   "source": [
    "Основываясь на этой таблице, можно смотреть динамику израсходывания лимита карты, что является ключевым показателем"
   ]
  },
  {
   "cell_type": "code",
   "execution_count": 167,
   "id": "f511335a",
   "metadata": {},
   "outputs": [],
   "source": [
    "# omit rows with period_days = 0\n",
    "ch = ch[ch.period_days > 0].sort_values(['id', 'start_period'])"
   ]
  },
  {
   "cell_type": "code",
   "execution_count": 168,
   "id": "9a2f7a24",
   "metadata": {},
   "outputs": [],
   "source": [
    "all_cards = ch[['id', 'user_id']].drop_duplicates().set_index('id')"
   ]
  },
  {
   "cell_type": "code",
   "execution_count": 169,
   "id": "478fa435",
   "metadata": {},
   "outputs": [],
   "source": [
    "g = cards_utlzn.groupby('id')\n",
    "all_cards['history_days'] = g.period_days.sum()"
   ]
  },
  {
   "cell_type": "code",
   "execution_count": 170,
   "id": "89737b4d",
   "metadata": {},
   "outputs": [],
   "source": [
    "def dot_product(df, idx, column1, column2):\n",
    "    return pd.Series({id: np.dot(df[df.id == id][column1], df[df.id == id][column2]) for id in idx})"
   ]
  },
  {
   "cell_type": "code",
   "execution_count": 171,
   "id": "29643ff1",
   "metadata": {
    "scrolled": true
   },
   "outputs": [],
   "source": [
    "# calculate average utilization rate\n",
    "all_cards['avg_utlzn'] = dot_product(ch, all_cards.index, 'current_utilization', 'period_days') / all_cards['history_days']"
   ]
  },
  {
   "cell_type": "code",
   "execution_count": 172,
   "id": "a455e8d5",
   "metadata": {
    "scrolled": true
   },
   "outputs": [],
   "source": [
    "# now we calculate average card limit and apr (in rare cases they change)\n",
    "all_cards['limit'] = dot_product(ch, all_cards.index, 'limit', 'period_days') / all_cards['history_days']\n",
    "all_cards['apr'] = dot_product(ch, all_cards.index, 'apr', 'period_days') / all_cards['history_days']"
   ]
  },
  {
   "cell_type": "raw",
   "id": "5e2baa5d",
   "metadata": {},
   "source": [
    "Признаки, которые я использовал на предыдущем месте работы -- доля времени жизни карты, когда лимит был израсходован более чем на Х процентов"
   ]
  },
  {
   "cell_type": "code",
   "execution_count": 173,
   "id": "7c0757ac",
   "metadata": {},
   "outputs": [],
   "source": [
    "# number of days when current_utilization is higher than X\n",
    "ch['cu25+'] = (ch.current_utilization >= 25)\n",
    "ch['cu50+'] = (ch.current_utilization >= 50)\n",
    "ch['cu75+'] = (ch.current_utilization >= 75)\n",
    "ch['cu100+'] = (ch.current_utilization >= 100)\n",
    "ch['cu125+'] = (ch.current_utilization >= 125)"
   ]
  },
  {
   "cell_type": "code",
   "execution_count": 174,
   "id": "c58b2bd1",
   "metadata": {},
   "outputs": [],
   "source": [
    "all_cards['cu25+'] = dot_product(ch, all_cards.index, 'cu25+', 'period_days') / all_cards['history_days']\n",
    "all_cards['cu50+'] = dot_product(ch, all_cards.index, 'cu50+', 'period_days') / all_cards['history_days']\n",
    "all_cards['cu75+'] = dot_product(ch, all_cards.index, 'cu75+', 'period_days') / all_cards['history_days']\n",
    "all_cards['cu100+'] = dot_product(ch, all_cards.index, 'cu100+', 'period_days') / all_cards['history_days']\n",
    "all_cards['cu125+'] = dot_product(ch, all_cards.index, 'cu125+', 'period_days') / all_cards['history_days']"
   ]
  },
  {
   "cell_type": "code",
   "execution_count": 190,
   "id": "a6f24465",
   "metadata": {},
   "outputs": [
    {
     "data": {
      "text/html": [
       "<div>\n",
       "<style scoped>\n",
       "    .dataframe tbody tr th:only-of-type {\n",
       "        vertical-align: middle;\n",
       "    }\n",
       "\n",
       "    .dataframe tbody tr th {\n",
       "        vertical-align: top;\n",
       "    }\n",
       "\n",
       "    .dataframe thead th {\n",
       "        text-align: right;\n",
       "    }\n",
       "</style>\n",
       "<table border=\"1\" class=\"dataframe\">\n",
       "  <thead>\n",
       "    <tr style=\"text-align: right;\">\n",
       "      <th></th>\n",
       "      <th>user_id</th>\n",
       "      <th>history_days</th>\n",
       "      <th>avg_utlzn</th>\n",
       "      <th>limit</th>\n",
       "      <th>apr</th>\n",
       "      <th>cu25+</th>\n",
       "      <th>cu50+</th>\n",
       "      <th>cu75+</th>\n",
       "      <th>cu100+</th>\n",
       "      <th>cu125+</th>\n",
       "    </tr>\n",
       "    <tr>\n",
       "      <th>id</th>\n",
       "      <th></th>\n",
       "      <th></th>\n",
       "      <th></th>\n",
       "      <th></th>\n",
       "      <th></th>\n",
       "      <th></th>\n",
       "      <th></th>\n",
       "      <th></th>\n",
       "      <th></th>\n",
       "      <th></th>\n",
       "    </tr>\n",
       "  </thead>\n",
       "  <tbody>\n",
       "    <tr>\n",
       "      <th>57</th>\n",
       "      <td>201</td>\n",
       "      <td>218</td>\n",
       "      <td>99.802397</td>\n",
       "      <td>1.120000e+06</td>\n",
       "      <td>22.99</td>\n",
       "      <td>1.000000</td>\n",
       "      <td>1.000000</td>\n",
       "      <td>1.000000</td>\n",
       "      <td>0.669725</td>\n",
       "      <td>0.0</td>\n",
       "    </tr>\n",
       "    <tr>\n",
       "      <th>58</th>\n",
       "      <td>201</td>\n",
       "      <td>266</td>\n",
       "      <td>90.971933</td>\n",
       "      <td>9.197368e+05</td>\n",
       "      <td>0.00</td>\n",
       "      <td>1.000000</td>\n",
       "      <td>1.000000</td>\n",
       "      <td>1.000000</td>\n",
       "      <td>0.000000</td>\n",
       "      <td>0.0</td>\n",
       "    </tr>\n",
       "    <tr>\n",
       "      <th>59</th>\n",
       "      <td>213</td>\n",
       "      <td>217</td>\n",
       "      <td>101.398600</td>\n",
       "      <td>2.100000e+05</td>\n",
       "      <td>19.24</td>\n",
       "      <td>1.000000</td>\n",
       "      <td>1.000000</td>\n",
       "      <td>1.000000</td>\n",
       "      <td>1.000000</td>\n",
       "      <td>0.0</td>\n",
       "    </tr>\n",
       "    <tr>\n",
       "      <th>116</th>\n",
       "      <td>201</td>\n",
       "      <td>236</td>\n",
       "      <td>42.167140</td>\n",
       "      <td>1.000000e+05</td>\n",
       "      <td>23.99</td>\n",
       "      <td>0.516949</td>\n",
       "      <td>0.483051</td>\n",
       "      <td>0.368644</td>\n",
       "      <td>0.000000</td>\n",
       "      <td>0.0</td>\n",
       "    </tr>\n",
       "    <tr>\n",
       "      <th>117</th>\n",
       "      <td>201</td>\n",
       "      <td>240</td>\n",
       "      <td>95.898570</td>\n",
       "      <td>7.800000e+05</td>\n",
       "      <td>25.24</td>\n",
       "      <td>1.000000</td>\n",
       "      <td>0.991667</td>\n",
       "      <td>0.954167</td>\n",
       "      <td>0.483333</td>\n",
       "      <td>0.0</td>\n",
       "    </tr>\n",
       "  </tbody>\n",
       "</table>\n",
       "</div>"
      ],
      "text/plain": [
       "     user_id  history_days   avg_utlzn         limit    apr     cu25+  \\\n",
       "id                                                                      \n",
       "57       201           218   99.802397  1.120000e+06  22.99  1.000000   \n",
       "58       201           266   90.971933  9.197368e+05   0.00  1.000000   \n",
       "59       213           217  101.398600  2.100000e+05  19.24  1.000000   \n",
       "116      201           236   42.167140  1.000000e+05  23.99  0.516949   \n",
       "117      201           240   95.898570  7.800000e+05  25.24  1.000000   \n",
       "\n",
       "        cu50+     cu75+    cu100+  cu125+  \n",
       "id                                         \n",
       "57   1.000000  1.000000  0.669725     0.0  \n",
       "58   1.000000  1.000000  0.000000     0.0  \n",
       "59   1.000000  1.000000  1.000000     0.0  \n",
       "116  0.483051  0.368644  0.000000     0.0  \n",
       "117  0.991667  0.954167  0.483333     0.0  "
      ]
     },
     "execution_count": 190,
     "metadata": {},
     "output_type": "execute_result"
    }
   ],
   "source": [
    "all_cards.head()"
   ]
  },
  {
   "cell_type": "code",
   "execution_count": 193,
   "id": "dc65d8aa",
   "metadata": {},
   "outputs": [],
   "source": [
    "# aggregation by user (using \"max\" for simplicity)\n",
    "final_df = all_cards.groupby('user_id').agg('max')\n",
    "final_df['count_cards'] = all_cards.groupby('user_id').agg('count').limit\n",
    "final_df = final_df.join(user_base[['fico_score']]).dropna()"
   ]
  },
  {
   "cell_type": "code",
   "execution_count": 194,
   "id": "60a2b45f",
   "metadata": {},
   "outputs": [
    {
     "data": {
      "text/html": [
       "<div>\n",
       "<style scoped>\n",
       "    .dataframe tbody tr th:only-of-type {\n",
       "        vertical-align: middle;\n",
       "    }\n",
       "\n",
       "    .dataframe tbody tr th {\n",
       "        vertical-align: top;\n",
       "    }\n",
       "\n",
       "    .dataframe thead th {\n",
       "        text-align: right;\n",
       "    }\n",
       "</style>\n",
       "<table border=\"1\" class=\"dataframe\">\n",
       "  <thead>\n",
       "    <tr style=\"text-align: right;\">\n",
       "      <th></th>\n",
       "      <th>history_days</th>\n",
       "      <th>avg_utlzn</th>\n",
       "      <th>limit</th>\n",
       "      <th>apr</th>\n",
       "      <th>cu25+</th>\n",
       "      <th>cu50+</th>\n",
       "      <th>cu75+</th>\n",
       "      <th>cu100+</th>\n",
       "      <th>cu125+</th>\n",
       "      <th>count_cards</th>\n",
       "      <th>fico_score</th>\n",
       "    </tr>\n",
       "    <tr>\n",
       "      <th>user_id</th>\n",
       "      <th></th>\n",
       "      <th></th>\n",
       "      <th></th>\n",
       "      <th></th>\n",
       "      <th></th>\n",
       "      <th></th>\n",
       "      <th></th>\n",
       "      <th></th>\n",
       "      <th></th>\n",
       "      <th></th>\n",
       "      <th></th>\n",
       "    </tr>\n",
       "  </thead>\n",
       "  <tbody>\n",
       "    <tr>\n",
       "      <th>201</th>\n",
       "      <td>266</td>\n",
       "      <td>99.802397</td>\n",
       "      <td>1120000.0</td>\n",
       "      <td>25.240000</td>\n",
       "      <td>1.0</td>\n",
       "      <td>1.0</td>\n",
       "      <td>1.0</td>\n",
       "      <td>0.669725</td>\n",
       "      <td>0.000000</td>\n",
       "      <td>4</td>\n",
       "      <td>0.276364</td>\n",
       "    </tr>\n",
       "    <tr>\n",
       "      <th>205</th>\n",
       "      <td>161</td>\n",
       "      <td>109.940100</td>\n",
       "      <td>31891.0</td>\n",
       "      <td>24.000000</td>\n",
       "      <td>1.0</td>\n",
       "      <td>1.0</td>\n",
       "      <td>1.0</td>\n",
       "      <td>1.000000</td>\n",
       "      <td>0.000000</td>\n",
       "      <td>1</td>\n",
       "      <td>0.214545</td>\n",
       "    </tr>\n",
       "    <tr>\n",
       "      <th>213</th>\n",
       "      <td>220</td>\n",
       "      <td>101.398600</td>\n",
       "      <td>360000.0</td>\n",
       "      <td>19.240000</td>\n",
       "      <td>1.0</td>\n",
       "      <td>1.0</td>\n",
       "      <td>1.0</td>\n",
       "      <td>1.000000</td>\n",
       "      <td>0.000000</td>\n",
       "      <td>2</td>\n",
       "      <td>0.298182</td>\n",
       "    </tr>\n",
       "    <tr>\n",
       "      <th>377</th>\n",
       "      <td>193</td>\n",
       "      <td>132.301036</td>\n",
       "      <td>60000.0</td>\n",
       "      <td>24.740000</td>\n",
       "      <td>1.0</td>\n",
       "      <td>1.0</td>\n",
       "      <td>1.0</td>\n",
       "      <td>1.000000</td>\n",
       "      <td>0.502591</td>\n",
       "      <td>3</td>\n",
       "      <td>0.378182</td>\n",
       "    </tr>\n",
       "    <tr>\n",
       "      <th>408</th>\n",
       "      <td>195</td>\n",
       "      <td>104.210820</td>\n",
       "      <td>418339.0</td>\n",
       "      <td>23.999511</td>\n",
       "      <td>1.0</td>\n",
       "      <td>1.0</td>\n",
       "      <td>1.0</td>\n",
       "      <td>0.959770</td>\n",
       "      <td>0.000000</td>\n",
       "      <td>4</td>\n",
       "      <td>0.270909</td>\n",
       "    </tr>\n",
       "  </tbody>\n",
       "</table>\n",
       "</div>"
      ],
      "text/plain": [
       "         history_days   avg_utlzn      limit        apr  cu25+  cu50+  cu75+  \\\n",
       "user_id                                                                        \n",
       "201               266   99.802397  1120000.0  25.240000    1.0    1.0    1.0   \n",
       "205               161  109.940100    31891.0  24.000000    1.0    1.0    1.0   \n",
       "213               220  101.398600   360000.0  19.240000    1.0    1.0    1.0   \n",
       "377               193  132.301036    60000.0  24.740000    1.0    1.0    1.0   \n",
       "408               195  104.210820   418339.0  23.999511    1.0    1.0    1.0   \n",
       "\n",
       "           cu100+    cu125+  count_cards  fico_score  \n",
       "user_id                                               \n",
       "201      0.669725  0.000000            4    0.276364  \n",
       "205      1.000000  0.000000            1    0.214545  \n",
       "213      1.000000  0.000000            2    0.298182  \n",
       "377      1.000000  0.502591            3    0.378182  \n",
       "408      0.959770  0.000000            4    0.270909  "
      ]
     },
     "execution_count": 194,
     "metadata": {},
     "output_type": "execute_result"
    }
   ],
   "source": [
    "final_df.head()"
   ]
  },
  {
   "cell_type": "code",
   "execution_count": 197,
   "id": "916aa8cf",
   "metadata": {},
   "outputs": [],
   "source": [
    "from optbinning import ContinuousOptimalBinning as optb"
   ]
  },
  {
   "cell_type": "raw",
   "id": "2754cb84",
   "metadata": {},
   "source": [
    "Несмотря на то, что целевая переменная вещественная, использую автоматический биннинг, так как это стандарт в построении скоркарт + он выводит интуитивно понятные зависимости в соответствии с бизнес-логикой + WOE-преобразование оптимально для log reg + обрабатывает пропуски"
   ]
  },
  {
   "cell_type": "code",
   "execution_count": 212,
   "id": "6c9a649d",
   "metadata": {
    "scrolled": true
   },
   "outputs": [],
   "source": [
    "vars_df = pd.DataFrame(columns=['Variable', 'IV', 'WOE'])\n",
    "for c in final_df.columns[:-1]:\n",
    "    v = optb(dtype='numerical')\n",
    "    v.fit(final_df[c], final_df.fico_score)\n",
    "    bt = v.binning_table\n",
    "    bt.build()\n",
    "    vars_df = vars_df.append({'Variable': c, 'IV': bt.iv, 'WOE': bt.woe}, ignore_index=True)"
   ]
  },
  {
   "cell_type": "code",
   "execution_count": 216,
   "id": "9ae9441c",
   "metadata": {},
   "outputs": [
    {
     "data": {
      "text/html": [
       "<div>\n",
       "<style scoped>\n",
       "    .dataframe tbody tr th:only-of-type {\n",
       "        vertical-align: middle;\n",
       "    }\n",
       "\n",
       "    .dataframe tbody tr th {\n",
       "        vertical-align: top;\n",
       "    }\n",
       "\n",
       "    .dataframe thead th {\n",
       "        text-align: right;\n",
       "    }\n",
       "</style>\n",
       "<table border=\"1\" class=\"dataframe\">\n",
       "  <thead>\n",
       "    <tr style=\"text-align: right;\">\n",
       "      <th></th>\n",
       "      <th>Variable</th>\n",
       "      <th>IV</th>\n",
       "      <th>WOE</th>\n",
       "    </tr>\n",
       "  </thead>\n",
       "  <tbody>\n",
       "    <tr>\n",
       "      <th>7</th>\n",
       "      <td>cu100+</td>\n",
       "      <td>0.117639</td>\n",
       "      <td>1.485513</td>\n",
       "    </tr>\n",
       "    <tr>\n",
       "      <th>0</th>\n",
       "      <td>history_days</td>\n",
       "      <td>0.115046</td>\n",
       "      <td>2.340077</td>\n",
       "    </tr>\n",
       "    <tr>\n",
       "      <th>1</th>\n",
       "      <td>avg_utlzn</td>\n",
       "      <td>0.11126</td>\n",
       "      <td>1.94165</td>\n",
       "    </tr>\n",
       "    <tr>\n",
       "      <th>6</th>\n",
       "      <td>cu75+</td>\n",
       "      <td>0.108422</td>\n",
       "      <td>1.827827</td>\n",
       "    </tr>\n",
       "    <tr>\n",
       "      <th>5</th>\n",
       "      <td>cu50+</td>\n",
       "      <td>0.095982</td>\n",
       "      <td>1.463168</td>\n",
       "    </tr>\n",
       "    <tr>\n",
       "      <th>4</th>\n",
       "      <td>cu25+</td>\n",
       "      <td>0.078977</td>\n",
       "      <td>1.476985</td>\n",
       "    </tr>\n",
       "    <tr>\n",
       "      <th>2</th>\n",
       "      <td>limit</td>\n",
       "      <td>0.073786</td>\n",
       "      <td>1.648194</td>\n",
       "    </tr>\n",
       "    <tr>\n",
       "      <th>3</th>\n",
       "      <td>apr</td>\n",
       "      <td>0.064364</td>\n",
       "      <td>1.45192</td>\n",
       "    </tr>\n",
       "    <tr>\n",
       "      <th>9</th>\n",
       "      <td>count_cards</td>\n",
       "      <td>0.050767</td>\n",
       "      <td>1.299688</td>\n",
       "    </tr>\n",
       "    <tr>\n",
       "      <th>8</th>\n",
       "      <td>cu125+</td>\n",
       "      <td>0.05025</td>\n",
       "      <td>1.102713</td>\n",
       "    </tr>\n",
       "  </tbody>\n",
       "</table>\n",
       "</div>"
      ],
      "text/plain": [
       "       Variable        IV       WOE\n",
       "7        cu100+  0.117639  1.485513\n",
       "0  history_days  0.115046  2.340077\n",
       "1     avg_utlzn   0.11126   1.94165\n",
       "6         cu75+  0.108422  1.827827\n",
       "5         cu50+  0.095982  1.463168\n",
       "4         cu25+  0.078977  1.476985\n",
       "2         limit  0.073786  1.648194\n",
       "3           apr  0.064364   1.45192\n",
       "9   count_cards  0.050767  1.299688\n",
       "8        cu125+   0.05025  1.102713"
      ]
     },
     "execution_count": 216,
     "metadata": {},
     "output_type": "execute_result"
    }
   ],
   "source": [
    "vars_df.sort_values('IV', ascending=False)"
   ]
  },
  {
   "cell_type": "raw",
   "id": "a778f1b5",
   "metadata": {},
   "source": [
    "По IV отобрался следующий ТОП3:\n",
    "1) Доля дней жизни карты, когда превышен лимит (скорее всего, указывает на высокие проценты). FICO монотонно падает с ростом переменной"
   ]
  },
  {
   "cell_type": "code",
   "execution_count": 219,
   "id": "ec8f7ccf",
   "metadata": {},
   "outputs": [
    {
     "data": {
      "image/png": "[encoded data removed]",
      "text/plain": [
       "<Figure size 432x288 with 2 Axes>"
      ]
     },
     "metadata": {
      "needs_background": "light"
     },
     "output_type": "display_data"
    }
   ],
   "source": [
    "var1 = optb(dtype='numerical')\n",
    "var1.fit(final_df['cu100+'], final_df.fico_score)\n",
    "var1.binning_table.build()\n",
    "var1.binning_table.plot(style='actual')"
   ]
  },
  {
   "cell_type": "raw",
   "id": "2c7bdcf9",
   "metadata": {},
   "source": [
    "2) Максимальный срок жизни карты (здесь не совсем интутивная зависимость, видимо, если клиент использует долгое время одну и ту же карту, это плохо влияет на скор, не исключено вторичное влияние возраста)"
   ]
  },
  {
   "cell_type": "code",
   "execution_count": 220,
   "id": "2bbb3767",
   "metadata": {},
   "outputs": [
    {
     "data": {
      "image/png": "[encoded data removed]",
      "text/plain": [
       "<Figure size 432x288 with 2 Axes>"
      ]
     },
     "metadata": {
      "needs_background": "light"
     },
     "output_type": "display_data"
    }
   ],
   "source": [
    "var1 = optb(dtype='numerical')\n",
    "var1.fit(final_df['history_days'], final_df.fico_score)\n",
    "var1.binning_table.build()\n",
    "var1.binning_table.plot(style='actual')"
   ]
  },
  {
   "cell_type": "raw",
   "id": "915d76b7",
   "metadata": {},
   "source": [
    "3) Средний расход лимита карты: чем больше расход, тем ниже FICO (в левой части графика видно влияние outlier'ов с расходом много выше ста процентов)"
   ]
  },
  {
   "cell_type": "code",
   "execution_count": 221,
   "id": "0d48b66e",
   "metadata": {},
   "outputs": [
    {
     "data": {
      "image/png": "[encoded data removed]",
      "text/plain": [
       "<Figure size 432x288 with 2 Axes>"
      ]
     },
     "metadata": {
      "needs_background": "light"
     },
     "output_type": "display_data"
    }
   ],
   "source": [
    "var1 = optb(dtype='numerical')\n",
    "var1.fit(final_df['avg_utlzn'], final_df.fico_score)\n",
    "var1.binning_table.build()\n",
    "var1.binning_table.plot(style='actual')"
   ]
  },
  {
   "cell_type": "code",
   "execution_count": null,
   "id": "8bd91188",
   "metadata": {},
   "outputs": [],
   "source": []
  }
 ],
 "metadata": {
  "kernelspec": {
   "display_name": "Python 3 (ipykernel)",
   "language": "python",
   "name": "python3"
  },
  "language_info": {
   "codemirror_mode": {
    "name": "ipython",
    "version": 3
   },
   "file_extension": ".py",
   "mimetype": "text/x-python",
   "name": "python",
   "nbconvert_exporter": "python",
   "pygments_lexer": "ipython3",
   "version": "3.10.5"
  }
 },
 "nbformat": 4,
 "nbformat_minor": 5
}
